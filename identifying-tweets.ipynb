{
 "cells": [
  {
   "cell_type": "code",
   "execution_count": 1,
   "id": "c9eac636",
   "metadata": {
    "_cell_guid": "b1076dfc-b9ad-4769-8c92-a6c4dae69d19",
    "_uuid": "8f2839f25d086af736a60e9eeb907d3b93b6e0e5",
    "execution": {
     "iopub.execute_input": "2022-09-18T18:49:35.080258Z",
     "iopub.status.busy": "2022-09-18T18:49:35.079750Z",
     "iopub.status.idle": "2022-09-18T18:49:35.093347Z",
     "shell.execute_reply": "2022-09-18T18:49:35.092311Z"
    },
    "papermill": {
     "duration": 0.025305,
     "end_time": "2022-09-18T18:49:35.096088",
     "exception": false,
     "start_time": "2022-09-18T18:49:35.070783",
     "status": "completed"
    },
    "tags": []
   },
   "outputs": [
    {
     "name": "stdout",
     "output_type": "stream",
     "text": [
      "/kaggle/input/nlp-getting-started/sample_submission.csv\n",
      "/kaggle/input/nlp-getting-started/train.csv\n",
      "/kaggle/input/nlp-getting-started/test.csv\n"
     ]
    }
   ],
   "source": [
    "# This Python 3 environment comes with many helpful analytics libraries installed\n",
    "# It is defined by the kaggle/python Docker image: https://github.com/kaggle/docker-python\n",
    "# For example, here's several helpful packages to load\n",
    "\n",
    "import numpy as np # linear algebra\n",
    "import pandas as pd # data processing, CSV file I/O (e.g. pd.read_csv)\n",
    "\n",
    "# Input data files are available in the read-only \"../input/\" directory\n",
    "# For example, running this (by clicking run or pressing Shift+Enter) will list all files under the input directory\n",
    "\n",
    "import os\n",
    "for dirname, _, filenames in os.walk('/kaggle/input'):\n",
    "    for filename in filenames:\n",
    "        print(os.path.join(dirname, filename))\n",
    "\n",
    "# You can write up to 20GB to the current directory (/kaggle/working/) that gets preserved as output when you create a version using \"Save & Run All\" \n",
    "# You can also write temporary files to /kaggle/temp/, but they won't be saved outside of the current session"
   ]
  },
  {
   "cell_type": "code",
   "execution_count": 2,
   "id": "1857e5b2",
   "metadata": {
    "execution": {
     "iopub.execute_input": "2022-09-18T18:49:35.111077Z",
     "iopub.status.busy": "2022-09-18T18:49:35.110334Z",
     "iopub.status.idle": "2022-09-18T18:49:36.381489Z",
     "shell.execute_reply": "2022-09-18T18:49:36.379930Z"
    },
    "papermill": {
     "duration": 1.282441,
     "end_time": "2022-09-18T18:49:36.385224",
     "exception": false,
     "start_time": "2022-09-18T18:49:35.102783",
     "status": "completed"
    },
    "tags": []
   },
   "outputs": [],
   "source": [
    "from sklearn import feature_extraction, linear_model, model_selection, preprocessing\n",
    "train_df = pd.read_csv('/kaggle/input/nlp-getting-started/train.csv')\n",
    "test_df = pd.read_csv('/kaggle/input/nlp-getting-started/test.csv')"
   ]
  },
  {
   "cell_type": "code",
   "execution_count": 3,
   "id": "0f6d77d9",
   "metadata": {
    "execution": {
     "iopub.execute_input": "2022-09-18T18:49:36.405076Z",
     "iopub.status.busy": "2022-09-18T18:49:36.404535Z",
     "iopub.status.idle": "2022-09-18T18:49:36.426918Z",
     "shell.execute_reply": "2022-09-18T18:49:36.425965Z"
    },
    "papermill": {
     "duration": 0.034056,
     "end_time": "2022-09-18T18:49:36.429178",
     "exception": false,
     "start_time": "2022-09-18T18:49:36.395122",
     "status": "completed"
    },
    "tags": []
   },
   "outputs": [
    {
     "data": {
      "text/html": [
       "<div>\n",
       "<style scoped>\n",
       "    .dataframe tbody tr th:only-of-type {\n",
       "        vertical-align: middle;\n",
       "    }\n",
       "\n",
       "    .dataframe tbody tr th {\n",
       "        vertical-align: top;\n",
       "    }\n",
       "\n",
       "    .dataframe thead th {\n",
       "        text-align: right;\n",
       "    }\n",
       "</style>\n",
       "<table border=\"1\" class=\"dataframe\">\n",
       "  <thead>\n",
       "    <tr style=\"text-align: right;\">\n",
       "      <th></th>\n",
       "      <th>id</th>\n",
       "      <th>keyword</th>\n",
       "      <th>location</th>\n",
       "      <th>text</th>\n",
       "      <th>target</th>\n",
       "    </tr>\n",
       "  </thead>\n",
       "  <tbody>\n",
       "    <tr>\n",
       "      <th>0</th>\n",
       "      <td>1</td>\n",
       "      <td>NaN</td>\n",
       "      <td>NaN</td>\n",
       "      <td>Our Deeds are the Reason of this #earthquake M...</td>\n",
       "      <td>1</td>\n",
       "    </tr>\n",
       "    <tr>\n",
       "      <th>1</th>\n",
       "      <td>4</td>\n",
       "      <td>NaN</td>\n",
       "      <td>NaN</td>\n",
       "      <td>Forest fire near La Ronge Sask. Canada</td>\n",
       "      <td>1</td>\n",
       "    </tr>\n",
       "    <tr>\n",
       "      <th>2</th>\n",
       "      <td>5</td>\n",
       "      <td>NaN</td>\n",
       "      <td>NaN</td>\n",
       "      <td>All residents asked to 'shelter in place' are ...</td>\n",
       "      <td>1</td>\n",
       "    </tr>\n",
       "    <tr>\n",
       "      <th>3</th>\n",
       "      <td>6</td>\n",
       "      <td>NaN</td>\n",
       "      <td>NaN</td>\n",
       "      <td>13,000 people receive #wildfires evacuation or...</td>\n",
       "      <td>1</td>\n",
       "    </tr>\n",
       "    <tr>\n",
       "      <th>4</th>\n",
       "      <td>7</td>\n",
       "      <td>NaN</td>\n",
       "      <td>NaN</td>\n",
       "      <td>Just got sent this photo from Ruby #Alaska as ...</td>\n",
       "      <td>1</td>\n",
       "    </tr>\n",
       "  </tbody>\n",
       "</table>\n",
       "</div>"
      ],
      "text/plain": [
       "   id keyword location                                               text  \\\n",
       "0   1     NaN      NaN  Our Deeds are the Reason of this #earthquake M...   \n",
       "1   4     NaN      NaN             Forest fire near La Ronge Sask. Canada   \n",
       "2   5     NaN      NaN  All residents asked to 'shelter in place' are ...   \n",
       "3   6     NaN      NaN  13,000 people receive #wildfires evacuation or...   \n",
       "4   7     NaN      NaN  Just got sent this photo from Ruby #Alaska as ...   \n",
       "\n",
       "   target  \n",
       "0       1  \n",
       "1       1  \n",
       "2       1  \n",
       "3       1  \n",
       "4       1  "
      ]
     },
     "execution_count": 3,
     "metadata": {},
     "output_type": "execute_result"
    }
   ],
   "source": [
    "train_df.head()"
   ]
  },
  {
   "cell_type": "code",
   "execution_count": 4,
   "id": "4cfed335",
   "metadata": {
    "execution": {
     "iopub.execute_input": "2022-09-18T18:49:36.443368Z",
     "iopub.status.busy": "2022-09-18T18:49:36.442678Z",
     "iopub.status.idle": "2022-09-18T18:49:36.468810Z",
     "shell.execute_reply": "2022-09-18T18:49:36.467594Z"
    },
    "papermill": {
     "duration": 0.03725,
     "end_time": "2022-09-18T18:49:36.472448",
     "exception": false,
     "start_time": "2022-09-18T18:49:36.435198",
     "status": "completed"
    },
    "tags": []
   },
   "outputs": [
    {
     "name": "stdout",
     "output_type": "stream",
     "text": [
      "<class 'pandas.core.frame.DataFrame'>\n",
      "RangeIndex: 7613 entries, 0 to 7612\n",
      "Data columns (total 5 columns):\n",
      " #   Column    Non-Null Count  Dtype \n",
      "---  ------    --------------  ----- \n",
      " 0   id        7613 non-null   int64 \n",
      " 1   keyword   7552 non-null   object\n",
      " 2   location  5080 non-null   object\n",
      " 3   text      7613 non-null   object\n",
      " 4   target    7613 non-null   int64 \n",
      "dtypes: int64(2), object(3)\n",
      "memory usage: 297.5+ KB\n"
     ]
    }
   ],
   "source": [
    "train_df.info()"
   ]
  },
  {
   "cell_type": "code",
   "execution_count": 5,
   "id": "458586ea",
   "metadata": {
    "execution": {
     "iopub.execute_input": "2022-09-18T18:49:36.487396Z",
     "iopub.status.busy": "2022-09-18T18:49:36.486144Z",
     "iopub.status.idle": "2022-09-18T18:49:36.499475Z",
     "shell.execute_reply": "2022-09-18T18:49:36.498235Z"
    },
    "papermill": {
     "duration": 0.023105,
     "end_time": "2022-09-18T18:49:36.502037",
     "exception": false,
     "start_time": "2022-09-18T18:49:36.478932",
     "status": "completed"
    },
    "tags": []
   },
   "outputs": [
    {
     "data": {
      "text/html": [
       "<div>\n",
       "<style scoped>\n",
       "    .dataframe tbody tr th:only-of-type {\n",
       "        vertical-align: middle;\n",
       "    }\n",
       "\n",
       "    .dataframe tbody tr th {\n",
       "        vertical-align: top;\n",
       "    }\n",
       "\n",
       "    .dataframe thead th {\n",
       "        text-align: right;\n",
       "    }\n",
       "</style>\n",
       "<table border=\"1\" class=\"dataframe\">\n",
       "  <thead>\n",
       "    <tr style=\"text-align: right;\">\n",
       "      <th></th>\n",
       "      <th>id</th>\n",
       "      <th>keyword</th>\n",
       "      <th>location</th>\n",
       "      <th>text</th>\n",
       "    </tr>\n",
       "  </thead>\n",
       "  <tbody>\n",
       "    <tr>\n",
       "      <th>0</th>\n",
       "      <td>0</td>\n",
       "      <td>NaN</td>\n",
       "      <td>NaN</td>\n",
       "      <td>Just happened a terrible car crash</td>\n",
       "    </tr>\n",
       "    <tr>\n",
       "      <th>1</th>\n",
       "      <td>2</td>\n",
       "      <td>NaN</td>\n",
       "      <td>NaN</td>\n",
       "      <td>Heard about #earthquake is different cities, s...</td>\n",
       "    </tr>\n",
       "    <tr>\n",
       "      <th>2</th>\n",
       "      <td>3</td>\n",
       "      <td>NaN</td>\n",
       "      <td>NaN</td>\n",
       "      <td>there is a forest fire at spot pond, geese are...</td>\n",
       "    </tr>\n",
       "    <tr>\n",
       "      <th>3</th>\n",
       "      <td>9</td>\n",
       "      <td>NaN</td>\n",
       "      <td>NaN</td>\n",
       "      <td>Apocalypse lighting. #Spokane #wildfires</td>\n",
       "    </tr>\n",
       "    <tr>\n",
       "      <th>4</th>\n",
       "      <td>11</td>\n",
       "      <td>NaN</td>\n",
       "      <td>NaN</td>\n",
       "      <td>Typhoon Soudelor kills 28 in China and Taiwan</td>\n",
       "    </tr>\n",
       "  </tbody>\n",
       "</table>\n",
       "</div>"
      ],
      "text/plain": [
       "   id keyword location                                               text\n",
       "0   0     NaN      NaN                 Just happened a terrible car crash\n",
       "1   2     NaN      NaN  Heard about #earthquake is different cities, s...\n",
       "2   3     NaN      NaN  there is a forest fire at spot pond, geese are...\n",
       "3   9     NaN      NaN           Apocalypse lighting. #Spokane #wildfires\n",
       "4  11     NaN      NaN      Typhoon Soudelor kills 28 in China and Taiwan"
      ]
     },
     "execution_count": 5,
     "metadata": {},
     "output_type": "execute_result"
    }
   ],
   "source": [
    "test_df.head()"
   ]
  },
  {
   "cell_type": "code",
   "execution_count": 6,
   "id": "3a6c261e",
   "metadata": {
    "execution": {
     "iopub.execute_input": "2022-09-18T18:49:36.517227Z",
     "iopub.status.busy": "2022-09-18T18:49:36.516742Z",
     "iopub.status.idle": "2022-09-18T18:49:36.526783Z",
     "shell.execute_reply": "2022-09-18T18:49:36.525271Z"
    },
    "papermill": {
     "duration": 0.020627,
     "end_time": "2022-09-18T18:49:36.529563",
     "exception": false,
     "start_time": "2022-09-18T18:49:36.508936",
     "status": "completed"
    },
    "tags": []
   },
   "outputs": [
    {
     "data": {
      "text/plain": [
       "0"
      ]
     },
     "execution_count": 6,
     "metadata": {},
     "output_type": "execute_result"
    }
   ],
   "source": [
    "train_df.text.isnull().sum()"
   ]
  },
  {
   "cell_type": "code",
   "execution_count": 7,
   "id": "2c1f9491",
   "metadata": {
    "execution": {
     "iopub.execute_input": "2022-09-18T18:49:36.545637Z",
     "iopub.status.busy": "2022-09-18T18:49:36.544913Z",
     "iopub.status.idle": "2022-09-18T18:49:36.559601Z",
     "shell.execute_reply": "2022-09-18T18:49:36.558416Z"
    },
    "papermill": {
     "duration": 0.026099,
     "end_time": "2022-09-18T18:49:36.562225",
     "exception": false,
     "start_time": "2022-09-18T18:49:36.536126",
     "status": "completed"
    },
    "tags": []
   },
   "outputs": [
    {
     "data": {
      "text/html": [
       "<div>\n",
       "<style scoped>\n",
       "    .dataframe tbody tr th:only-of-type {\n",
       "        vertical-align: middle;\n",
       "    }\n",
       "\n",
       "    .dataframe tbody tr th {\n",
       "        vertical-align: top;\n",
       "    }\n",
       "\n",
       "    .dataframe thead th {\n",
       "        text-align: right;\n",
       "    }\n",
       "</style>\n",
       "<table border=\"1\" class=\"dataframe\">\n",
       "  <thead>\n",
       "    <tr style=\"text-align: right;\">\n",
       "      <th></th>\n",
       "      <th>id</th>\n",
       "      <th>keyword</th>\n",
       "      <th>location</th>\n",
       "      <th>text</th>\n",
       "      <th>target</th>\n",
       "    </tr>\n",
       "  </thead>\n",
       "  <tbody>\n",
       "    <tr>\n",
       "      <th>3662</th>\n",
       "      <td>5212</td>\n",
       "      <td>fatality</td>\n",
       "      <td>playing soccer &amp; eating pizza</td>\n",
       "      <td>@Jake_ADavis @FaTality_US we are cuddling righ...</td>\n",
       "      <td>0</td>\n",
       "    </tr>\n",
       "    <tr>\n",
       "      <th>1429</th>\n",
       "      <td>2061</td>\n",
       "      <td>casualty</td>\n",
       "      <td>Rochelle, GA</td>\n",
       "      <td>Being able to stay out of work this week to ta...</td>\n",
       "      <td>0</td>\n",
       "    </tr>\n",
       "    <tr>\n",
       "      <th>7413</th>\n",
       "      <td>10606</td>\n",
       "      <td>wounded</td>\n",
       "      <td>USA</td>\n",
       "      <td>One man fatally shot another wounded on Vermon...</td>\n",
       "      <td>1</td>\n",
       "    </tr>\n",
       "    <tr>\n",
       "      <th>6023</th>\n",
       "      <td>8608</td>\n",
       "      <td>seismic</td>\n",
       "      <td>Somalia</td>\n",
       "      <td>Exploration takes seismic shift in Gabon to So...</td>\n",
       "      <td>0</td>\n",
       "    </tr>\n",
       "    <tr>\n",
       "      <th>5015</th>\n",
       "      <td>7154</td>\n",
       "      <td>mudslide</td>\n",
       "      <td>Wales</td>\n",
       "      <td>Hope Dorett's 'mudslide' cake wins?? #GBBO</td>\n",
       "      <td>0</td>\n",
       "    </tr>\n",
       "    <tr>\n",
       "      <th>5371</th>\n",
       "      <td>7663</td>\n",
       "      <td>panic</td>\n",
       "      <td>NaN</td>\n",
       "      <td>we was all just laughing and talking junk now ...</td>\n",
       "      <td>0</td>\n",
       "    </tr>\n",
       "    <tr>\n",
       "      <th>3407</th>\n",
       "      <td>4877</td>\n",
       "      <td>explode</td>\n",
       "      <td>Australia</td>\n",
       "      <td>It's cold and my head wants to explode.. The j...</td>\n",
       "      <td>0</td>\n",
       "    </tr>\n",
       "    <tr>\n",
       "      <th>3681</th>\n",
       "      <td>5236</td>\n",
       "      <td>fatality</td>\n",
       "      <td>New York</td>\n",
       "      <td>@Babybackreeve FATALITY!!!!!!!!!!</td>\n",
       "      <td>0</td>\n",
       "    </tr>\n",
       "    <tr>\n",
       "      <th>3377</th>\n",
       "      <td>4835</td>\n",
       "      <td>evacuation</td>\n",
       "      <td>EIU  Chucktown/LaSalle IL</td>\n",
       "      <td>@Eric_Bulak @jaclynsonne @_OliviaAnn_ I was lo...</td>\n",
       "      <td>0</td>\n",
       "    </tr>\n",
       "    <tr>\n",
       "      <th>6338</th>\n",
       "      <td>9060</td>\n",
       "      <td>structural%20failure</td>\n",
       "      <td>San Francisco</td>\n",
       "      <td>[CLIP] Top-down coercion - The structural weak...</td>\n",
       "      <td>0</td>\n",
       "    </tr>\n",
       "  </tbody>\n",
       "</table>\n",
       "</div>"
      ],
      "text/plain": [
       "         id               keyword                       location  \\\n",
       "3662   5212              fatality  playing soccer & eating pizza   \n",
       "1429   2061              casualty                   Rochelle, GA   \n",
       "7413  10606               wounded                            USA   \n",
       "6023   8608               seismic                        Somalia   \n",
       "5015   7154              mudslide                          Wales   \n",
       "5371   7663                 panic                            NaN   \n",
       "3407   4877               explode                      Australia   \n",
       "3681   5236              fatality                      New York    \n",
       "3377   4835            evacuation      EIU  Chucktown/LaSalle IL   \n",
       "6338   9060  structural%20failure                  San Francisco   \n",
       "\n",
       "                                                   text  target  \n",
       "3662  @Jake_ADavis @FaTality_US we are cuddling righ...       0  \n",
       "1429  Being able to stay out of work this week to ta...       0  \n",
       "7413  One man fatally shot another wounded on Vermon...       1  \n",
       "6023  Exploration takes seismic shift in Gabon to So...       0  \n",
       "5015         Hope Dorett's 'mudslide' cake wins?? #GBBO       0  \n",
       "5371  we was all just laughing and talking junk now ...       0  \n",
       "3407  It's cold and my head wants to explode.. The j...       0  \n",
       "3681                  @Babybackreeve FATALITY!!!!!!!!!!       0  \n",
       "3377  @Eric_Bulak @jaclynsonne @_OliviaAnn_ I was lo...       0  \n",
       "6338  [CLIP] Top-down coercion - The structural weak...       0  "
      ]
     },
     "execution_count": 7,
     "metadata": {},
     "output_type": "execute_result"
    }
   ],
   "source": [
    "train_df.sample(10)"
   ]
  },
  {
   "cell_type": "code",
   "execution_count": 8,
   "id": "8bb777e9",
   "metadata": {
    "execution": {
     "iopub.execute_input": "2022-09-18T18:49:36.577747Z",
     "iopub.status.busy": "2022-09-18T18:49:36.577051Z",
     "iopub.status.idle": "2022-09-18T18:49:37.084774Z",
     "shell.execute_reply": "2022-09-18T18:49:37.083904Z"
    },
    "papermill": {
     "duration": 0.518741,
     "end_time": "2022-09-18T18:49:37.087724",
     "exception": false,
     "start_time": "2022-09-18T18:49:36.568983",
     "status": "completed"
    },
    "tags": []
   },
   "outputs": [],
   "source": [
    "import string\n",
    "from nltk.corpus import stopwords\n",
    "def clean_text(text):\n",
    "    STOPWRDS = stopwords.words('english')\n",
    "    nopunc = [char for char in text if char not in string.punctuation]\n",
    "    nopunc = ''.join(nopunc)\n",
    "    return ' '.join([word for word in nopunc.split() if word.lower() not in STOPWRDS])"
   ]
  },
  {
   "cell_type": "code",
   "execution_count": 9,
   "id": "fff7afc4",
   "metadata": {
    "execution": {
     "iopub.execute_input": "2022-09-18T18:49:37.102883Z",
     "iopub.status.busy": "2022-09-18T18:49:37.102443Z",
     "iopub.status.idle": "2022-09-18T18:49:37.114441Z",
     "shell.execute_reply": "2022-09-18T18:49:37.113118Z"
    },
    "papermill": {
     "duration": 0.022471,
     "end_time": "2022-09-18T18:49:37.117082",
     "exception": false,
     "start_time": "2022-09-18T18:49:37.094611",
     "status": "completed"
    },
    "tags": []
   },
   "outputs": [
    {
     "data": {
      "text/plain": [
       "0    Our Deeds are the Reason of this #earthquake M...\n",
       "1               Forest fire near La Ronge Sask. Canada\n",
       "2    All residents asked to 'shelter in place' are ...\n",
       "3    13,000 people receive #wildfires evacuation or...\n",
       "4    Just got sent this photo from Ruby #Alaska as ...\n",
       "Name: text, dtype: object"
      ]
     },
     "execution_count": 9,
     "metadata": {},
     "output_type": "execute_result"
    }
   ],
   "source": [
    "train_df.text.head()"
   ]
  },
  {
   "cell_type": "code",
   "execution_count": 10,
   "id": "ebf42f21",
   "metadata": {
    "execution": {
     "iopub.execute_input": "2022-09-18T18:49:37.131635Z",
     "iopub.status.busy": "2022-09-18T18:49:37.131181Z",
     "iopub.status.idle": "2022-09-18T18:49:38.581350Z",
     "shell.execute_reply": "2022-09-18T18:49:38.580273Z"
    },
    "papermill": {
     "duration": 1.460656,
     "end_time": "2022-09-18T18:49:38.583960",
     "exception": false,
     "start_time": "2022-09-18T18:49:37.123304",
     "status": "completed"
    },
    "tags": []
   },
   "outputs": [
    {
     "data": {
      "text/plain": [
       "0         Deeds Reason earthquake May ALLAH Forgive us\n",
       "1                Forest fire near La Ronge Sask Canada\n",
       "2    residents asked shelter place notified officer...\n",
       "3    13000 people receive wildfires evacuation orde...\n",
       "4    got sent photo Ruby Alaska smoke wildfires pou...\n",
       "Name: text, dtype: object"
      ]
     },
     "execution_count": 10,
     "metadata": {},
     "output_type": "execute_result"
    }
   ],
   "source": [
    "train_df['text'] = train_df.text.apply(clean_text)\n",
    "train_df.text.head()"
   ]
  },
  {
   "cell_type": "code",
   "execution_count": 11,
   "id": "d08d494c",
   "metadata": {
    "execution": {
     "iopub.execute_input": "2022-09-18T18:49:38.597933Z",
     "iopub.status.busy": "2022-09-18T18:49:38.597540Z",
     "iopub.status.idle": "2022-09-18T18:49:39.231475Z",
     "shell.execute_reply": "2022-09-18T18:49:39.230342Z"
    },
    "papermill": {
     "duration": 0.643471,
     "end_time": "2022-09-18T18:49:39.233760",
     "exception": false,
     "start_time": "2022-09-18T18:49:38.590289",
     "status": "completed"
    },
    "tags": []
   },
   "outputs": [
    {
     "data": {
      "text/plain": [
       "0                          happened terrible car crash\n",
       "1    Heard earthquake different cities stay safe ev...\n",
       "2    forest fire spot pond geese fleeing across str...\n",
       "3                Apocalypse lighting Spokane wildfires\n",
       "4               Typhoon Soudelor kills 28 China Taiwan\n",
       "Name: text, dtype: object"
      ]
     },
     "execution_count": 11,
     "metadata": {},
     "output_type": "execute_result"
    }
   ],
   "source": [
    "test_df['text'] = test_df.text.apply(clean_text)\n",
    "test_df.text.head()"
   ]
  },
  {
   "cell_type": "code",
   "execution_count": 12,
   "id": "cb92c796",
   "metadata": {
    "execution": {
     "iopub.execute_input": "2022-09-18T18:49:39.250666Z",
     "iopub.status.busy": "2022-09-18T18:49:39.248757Z",
     "iopub.status.idle": "2022-09-18T18:49:39.264093Z",
     "shell.execute_reply": "2022-09-18T18:49:39.262398Z"
    },
    "papermill": {
     "duration": 0.025964,
     "end_time": "2022-09-18T18:49:39.267237",
     "exception": false,
     "start_time": "2022-09-18T18:49:39.241273",
     "status": "completed"
    },
    "tags": []
   },
   "outputs": [
    {
     "name": "stdout",
     "output_type": "stream",
     "text": [
      "(1, 36)\n",
      "[[0 0 1 0 0 0 1 1 0 0 0 0 1 0 0 1 0 0 0 0 0 0 0 0 1 0 0 0 0 0 0 0 0 0 1 0]]\n"
     ]
    }
   ],
   "source": [
    "count_vectorizer = feature_extraction.text.CountVectorizer()\n",
    "example_train_vectors = count_vectorizer.fit_transform(train_df['text'][0:5])\n",
    "print(example_train_vectors[0].todense().shape)\n",
    "print(example_train_vectors[0].todense())"
   ]
  },
  {
   "cell_type": "code",
   "execution_count": 13,
   "id": "57a84ef1",
   "metadata": {
    "execution": {
     "iopub.execute_input": "2022-09-18T18:49:39.282920Z",
     "iopub.status.busy": "2022-09-18T18:49:39.282425Z",
     "iopub.status.idle": "2022-09-18T18:49:39.463223Z",
     "shell.execute_reply": "2022-09-18T18:49:39.462204Z"
    },
    "papermill": {
     "duration": 0.192054,
     "end_time": "2022-09-18T18:49:39.466220",
     "exception": false,
     "start_time": "2022-09-18T18:49:39.274166",
     "status": "completed"
    },
    "tags": []
   },
   "outputs": [],
   "source": [
    "train_vectors = count_vectorizer.fit_transform(train_df['text'])\n",
    "test_vectors = count_vectorizer.transform(test_df['text'])"
   ]
  },
  {
   "cell_type": "code",
   "execution_count": 14,
   "id": "5606c757",
   "metadata": {
    "execution": {
     "iopub.execute_input": "2022-09-18T18:49:39.481963Z",
     "iopub.status.busy": "2022-09-18T18:49:39.481541Z",
     "iopub.status.idle": "2022-09-18T18:49:39.676573Z",
     "shell.execute_reply": "2022-09-18T18:49:39.675323Z"
    },
    "papermill": {
     "duration": 0.206702,
     "end_time": "2022-09-18T18:49:39.679857",
     "exception": false,
     "start_time": "2022-09-18T18:49:39.473155",
     "status": "completed"
    },
    "tags": []
   },
   "outputs": [
    {
     "data": {
      "text/plain": [
       "array([[0, 0, 0, ..., 0, 0, 0],\n",
       "       [0, 0, 0, ..., 0, 0, 0],\n",
       "       [0, 0, 0, ..., 0, 0, 0],\n",
       "       ...,\n",
       "       [0, 0, 0, ..., 0, 0, 0],\n",
       "       [0, 0, 0, ..., 0, 0, 0],\n",
       "       [0, 0, 0, ..., 0, 0, 0]])"
      ]
     },
     "execution_count": 14,
     "metadata": {},
     "output_type": "execute_result"
    }
   ],
   "source": [
    "train_vectors.toarray()"
   ]
  },
  {
   "cell_type": "code",
   "execution_count": 15,
   "id": "f2652051",
   "metadata": {
    "execution": {
     "iopub.execute_input": "2022-09-18T18:49:39.695905Z",
     "iopub.status.busy": "2022-09-18T18:49:39.695444Z",
     "iopub.status.idle": "2022-09-18T18:49:39.701457Z",
     "shell.execute_reply": "2022-09-18T18:49:39.699816Z"
    },
    "papermill": {
     "duration": 0.016851,
     "end_time": "2022-09-18T18:49:39.703855",
     "exception": false,
     "start_time": "2022-09-18T18:49:39.687004",
     "status": "completed"
    },
    "tags": []
   },
   "outputs": [],
   "source": [
    "clf = linear_model.RidgeClassifier()"
   ]
  },
  {
   "cell_type": "code",
   "execution_count": 16,
   "id": "fcccf559",
   "metadata": {
    "execution": {
     "iopub.execute_input": "2022-09-18T18:49:39.720332Z",
     "iopub.status.busy": "2022-09-18T18:49:39.718348Z",
     "iopub.status.idle": "2022-09-18T18:49:40.010527Z",
     "shell.execute_reply": "2022-09-18T18:49:40.009071Z"
    },
    "papermill": {
     "duration": 0.304039,
     "end_time": "2022-09-18T18:49:40.014836",
     "exception": false,
     "start_time": "2022-09-18T18:49:39.710797",
     "status": "completed"
    },
    "tags": []
   },
   "outputs": [
    {
     "data": {
      "text/plain": [
       "array([0.59462425, 0.52008239, 0.58925831])"
      ]
     },
     "execution_count": 16,
     "metadata": {},
     "output_type": "execute_result"
    }
   ],
   "source": [
    "scores = model_selection.cross_val_score(clf, train_vectors, train_df['target'], cv=3, scoring = 'f1')\n",
    "scores"
   ]
  },
  {
   "cell_type": "code",
   "execution_count": 17,
   "id": "6a85ab0f",
   "metadata": {
    "execution": {
     "iopub.execute_input": "2022-09-18T18:49:40.052286Z",
     "iopub.status.busy": "2022-09-18T18:49:40.051582Z",
     "iopub.status.idle": "2022-09-18T18:49:40.186239Z",
     "shell.execute_reply": "2022-09-18T18:49:40.184736Z"
    },
    "papermill": {
     "duration": 0.158755,
     "end_time": "2022-09-18T18:49:40.190933",
     "exception": false,
     "start_time": "2022-09-18T18:49:40.032178",
     "status": "completed"
    },
    "tags": []
   },
   "outputs": [
    {
     "data": {
      "text/plain": [
       "RidgeClassifier()"
      ]
     },
     "execution_count": 17,
     "metadata": {},
     "output_type": "execute_result"
    }
   ],
   "source": [
    "clf.fit(train_vectors, train_df['target'])"
   ]
  },
  {
   "cell_type": "code",
   "execution_count": 18,
   "id": "781347ff",
   "metadata": {
    "execution": {
     "iopub.execute_input": "2022-09-18T18:49:40.234388Z",
     "iopub.status.busy": "2022-09-18T18:49:40.233710Z",
     "iopub.status.idle": "2022-09-18T18:49:40.265609Z",
     "shell.execute_reply": "2022-09-18T18:49:40.264095Z"
    },
    "papermill": {
     "duration": 0.058998,
     "end_time": "2022-09-18T18:49:40.270478",
     "exception": false,
     "start_time": "2022-09-18T18:49:40.211480",
     "status": "completed"
    },
    "tags": []
   },
   "outputs": [],
   "source": [
    "preds = clf.predict(test_vectors)\n",
    "submission = pd.DataFrame(preds,columns = ['Target']).join(test_df['id'])\n",
    "submission.to_csv('submission.csv', index = False)"
   ]
  },
  {
   "cell_type": "code",
   "execution_count": 19,
   "id": "cad4f865",
   "metadata": {
    "execution": {
     "iopub.execute_input": "2022-09-18T18:49:40.303250Z",
     "iopub.status.busy": "2022-09-18T18:49:40.302840Z",
     "iopub.status.idle": "2022-09-18T18:49:40.314809Z",
     "shell.execute_reply": "2022-09-18T18:49:40.313858Z"
    },
    "papermill": {
     "duration": 0.029205,
     "end_time": "2022-09-18T18:49:40.317212",
     "exception": false,
     "start_time": "2022-09-18T18:49:40.288007",
     "status": "completed"
    },
    "tags": []
   },
   "outputs": [
    {
     "data": {
      "text/html": [
       "<div>\n",
       "<style scoped>\n",
       "    .dataframe tbody tr th:only-of-type {\n",
       "        vertical-align: middle;\n",
       "    }\n",
       "\n",
       "    .dataframe tbody tr th {\n",
       "        vertical-align: top;\n",
       "    }\n",
       "\n",
       "    .dataframe thead th {\n",
       "        text-align: right;\n",
       "    }\n",
       "</style>\n",
       "<table border=\"1\" class=\"dataframe\">\n",
       "  <thead>\n",
       "    <tr style=\"text-align: right;\">\n",
       "      <th></th>\n",
       "      <th>Target</th>\n",
       "      <th>id</th>\n",
       "    </tr>\n",
       "  </thead>\n",
       "  <tbody>\n",
       "    <tr>\n",
       "      <th>0</th>\n",
       "      <td>0</td>\n",
       "      <td>0</td>\n",
       "    </tr>\n",
       "    <tr>\n",
       "      <th>1</th>\n",
       "      <td>1</td>\n",
       "      <td>2</td>\n",
       "    </tr>\n",
       "    <tr>\n",
       "      <th>2</th>\n",
       "      <td>1</td>\n",
       "      <td>3</td>\n",
       "    </tr>\n",
       "    <tr>\n",
       "      <th>3</th>\n",
       "      <td>1</td>\n",
       "      <td>9</td>\n",
       "    </tr>\n",
       "    <tr>\n",
       "      <th>4</th>\n",
       "      <td>1</td>\n",
       "      <td>11</td>\n",
       "    </tr>\n",
       "    <tr>\n",
       "      <th>...</th>\n",
       "      <td>...</td>\n",
       "      <td>...</td>\n",
       "    </tr>\n",
       "    <tr>\n",
       "      <th>3258</th>\n",
       "      <td>1</td>\n",
       "      <td>10861</td>\n",
       "    </tr>\n",
       "    <tr>\n",
       "      <th>3259</th>\n",
       "      <td>1</td>\n",
       "      <td>10865</td>\n",
       "    </tr>\n",
       "    <tr>\n",
       "      <th>3260</th>\n",
       "      <td>1</td>\n",
       "      <td>10868</td>\n",
       "    </tr>\n",
       "    <tr>\n",
       "      <th>3261</th>\n",
       "      <td>1</td>\n",
       "      <td>10874</td>\n",
       "    </tr>\n",
       "    <tr>\n",
       "      <th>3262</th>\n",
       "      <td>0</td>\n",
       "      <td>10875</td>\n",
       "    </tr>\n",
       "  </tbody>\n",
       "</table>\n",
       "<p>3263 rows × 2 columns</p>\n",
       "</div>"
      ],
      "text/plain": [
       "      Target     id\n",
       "0          0      0\n",
       "1          1      2\n",
       "2          1      3\n",
       "3          1      9\n",
       "4          1     11\n",
       "...      ...    ...\n",
       "3258       1  10861\n",
       "3259       1  10865\n",
       "3260       1  10868\n",
       "3261       1  10874\n",
       "3262       0  10875\n",
       "\n",
       "[3263 rows x 2 columns]"
      ]
     },
     "execution_count": 19,
     "metadata": {},
     "output_type": "execute_result"
    }
   ],
   "source": [
    "submission"
   ]
  },
  {
   "cell_type": "code",
   "execution_count": null,
   "id": "5e9cceac",
   "metadata": {
    "papermill": {
     "duration": 0.007154,
     "end_time": "2022-09-18T18:49:40.332364",
     "exception": false,
     "start_time": "2022-09-18T18:49:40.325210",
     "status": "completed"
    },
    "tags": []
   },
   "outputs": [],
   "source": []
  }
 ],
 "metadata": {
  "kernelspec": {
   "display_name": "Python 3",
   "language": "python",
   "name": "python3"
  },
  "language_info": {
   "codemirror_mode": {
    "name": "ipython",
    "version": 3
   },
   "file_extension": ".py",
   "mimetype": "text/x-python",
   "name": "python",
   "nbconvert_exporter": "python",
   "pygments_lexer": "ipython3",
   "version": "3.7.12"
  },
  "papermill": {
   "default_parameters": {},
   "duration": 15.327146,
   "end_time": "2022-09-18T18:49:41.364526",
   "environment_variables": {},
   "exception": null,
   "input_path": "__notebook__.ipynb",
   "output_path": "__notebook__.ipynb",
   "parameters": {},
   "start_time": "2022-09-18T18:49:26.037380",
   "version": "2.3.4"
  }
 },
 "nbformat": 4,
 "nbformat_minor": 5
}
